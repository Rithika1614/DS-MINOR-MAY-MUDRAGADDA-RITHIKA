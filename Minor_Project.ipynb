{
  "nbformat": 4,
  "nbformat_minor": 0,
  "metadata": {
    "colab": {
      "name": "Minor Project.ipynb",
      "provenance": []
    },
    "kernelspec": {
      "name": "python3",
      "display_name": "Python 3"
    },
    "language_info": {
      "name": "python"
    }
  },
  "cells": [
    {
      "cell_type": "code",
      "metadata": {
        "colab": {
          "base_uri": "https://localhost:8080/"
        },
        "id": "lLD7I8zRoN_2",
        "outputId": "31a69d06-fc81-42ab-b79b-dbcaeb375883"
      },
      "source": [
        "!pip install bing-image-downloader"
      ],
      "execution_count": 1,
      "outputs": [
        {
          "output_type": "stream",
          "text": [
            "Collecting bing-image-downloader\n",
            "  Downloading https://files.pythonhosted.org/packages/c2/04/1872a689a30036aa0b81ac9fca124a7413cad71fdab714f727cf1a34b671/bing_image_downloader-1.1.1-py3-none-any.whl\n",
            "Installing collected packages: bing-image-downloader\n",
            "Successfully installed bing-image-downloader-1.1.1\n"
          ],
          "name": "stdout"
        }
      ]
    },
    {
      "cell_type": "code",
      "metadata": {
        "id": "AWfkarpKoUJo"
      },
      "source": [
        "!mkdir images"
      ],
      "execution_count": 2,
      "outputs": []
    },
    {
      "cell_type": "code",
      "metadata": {
        "colab": {
          "base_uri": "https://localhost:8080/"
        },
        "id": "UeMNOMIFoZtb",
        "outputId": "ef95dad4-0262-4413-81f4-9413fb9838d5"
      },
      "source": [
        "from bing_image_downloader import downloader\n",
        "downloader.download(\"lions\",limit=60,output_dir='images',adult_filter_off=True)"
      ],
      "execution_count": 3,
      "outputs": [
        {
          "output_type": "stream",
          "text": [
            "[%] Downloading Images to /content/images/lions\n",
            "\n",
            "\n",
            "[!!]Indexing page: 1\n",
            "\n",
            "[%] Indexed 60 Images on Page 1.\n",
            "\n",
            "===============================================\n",
            "\n",
            "[%] Downloading Image #1 from http://1.bp.blogspot.com/-WeQqykyLQJE/UOFwCsUW4JI/AAAAAAAAEmY/aPSDjWS111E/s1600/African-Lion.jpg\n",
            "[%] File Downloaded !\n",
            "\n",
            "[%] Downloading Image #2 from http://s24990.pcdn.co/wp-content/uploads/2015/12/Lion_1.jpg\n",
            "[%] File Downloaded !\n",
            "\n",
            "[%] Downloading Image #3 from http://images.yuku.com/image/jpeg/8cb15cf9e17bb327e7a944593c6d7d800013cc6.jpg\n",
            "[%] File Downloaded !\n",
            "\n",
            "[%] Downloading Image #4 from https://3.bp.blogspot.com/-a8xW6J4LB2M/TghXq9k3DCI/AAAAAAAAAMs/LnI11Rcc70Q/s1600/African+Lion3.jpg\n",
            "[%] File Downloaded !\n",
            "\n",
            "[%] Downloading Image #5 from https://i104.photobucket.com/albums/m168/coastwizard/Cryptozoology/Lions of Tsavo/charging_lion3.jpg\n",
            "[!] Issue getting: https://i104.photobucket.com/albums/m168/coastwizard/Cryptozoology/Lions of Tsavo/charging_lion3.jpg\n",
            "[!] Error:: URL can't contain control characters. '/albums/m168/coastwizard/Cryptozoology/Lions of Tsavo/charging_lion3.jpg' (found at least ' ')\n",
            "[%] Downloading Image #5 from https://takeshape-prod.imgix.net/4287fd2a-6d1b-49ae-8432-a325caea49ac/dev/ef37c4f1-da07-494a-b807-5cec9b488d06/male-lions_Ken-Mitchell-Dyball.jpg?auto=compress%2Cformat&amp;fm=pjpg&amp;w=1750\n",
            "[%] File Downloaded !\n",
            "\n",
            "[%] Downloading Image #6 from https://cdn.images.express.co.uk/img/dynamic/galleries/x701/156708.jpg\n",
            "[%] File Downloaded !\n",
            "\n",
            "[%] Downloading Image #7 from https://media.nbcbayarea.com/2019/09/AP_518985915980-lion-airlift-south-africa-sanctuaries.jpg?quality=85&amp;strip=all&amp;fit=1200%2C675&amp;w=775&amp;h=436&amp;crop=1\n",
            "[%] File Downloaded !\n",
            "\n",
            "[%] Downloading Image #8 from https://media.londolozi.com/wp-content/uploads/2014/03/11150146/Lions-and-Rivers-8-of-8.jpg\n",
            "[%] File Downloaded !\n",
            "\n",
            "[%] Downloading Image #9 from https://rangerdiaries.com/wp-content/uploads/images/diaries/mDtnI0E-1024x683.jpg\n",
            "[%] File Downloaded !\n",
            "\n",
            "[%] Downloading Image #10 from https://us-east-1.tchyn.io/snopes-production/uploads/2018/07/lions_south_africa.jpg?resize=865,452\n",
            "[%] File Downloaded !\n",
            "\n",
            "[%] Downloading Image #11 from https://upload.wikimedia.org/wikipedia/commons/2/26/Lions%2C_Krugersdorp_game_reserve_%285658236022%29.jpg\n",
            "[%] File Downloaded !\n",
            "\n",
            "[%] Downloading Image #12 from https://turntable.kagiso.io/images/lion-1209525_960_720.width-800.jpg\n",
            "[%] File Downloaded !\n",
            "\n",
            "[%] Downloading Image #13 from http://www.sellusyourstory.com/wp-content/uploads/2014/06/SWNS_LONGLEAT_LIONS_06.jpg\n",
            "[%] File Downloaded !\n",
            "\n",
            "[%] Downloading Image #14 from https://i0.wp.com/planetblond.com/wp-content/uploads/2017/03/1437_53533205762_8155_n.jpg?resize=604%2C453&amp;ssl=1\n",
            "[%] File Downloaded !\n",
            "\n",
            "[%] Downloading Image #15 from https://s24990.pcdn.co/wp-content/uploads/2016/04/mo1.jpg\n",
            "[%] File Downloaded !\n",
            "\n",
            "[%] Downloading Image #16 from https://rangerdiaries.com/wp-content/uploads/images/diaries/14JZLpBT.jpg\n",
            "[%] File Downloaded !\n",
            "\n",
            "[%] Downloading Image #17 from http://www.jukani.co.za/img.php?image=https://jukani.co.za/userfiles/images/Jukani-2020/White-Lion.jpg\n",
            "[%] File Downloaded !\n",
            "\n",
            "[%] Downloading Image #18 from https://qph.fs.quoracdn.net/main-qimg-a9460ae3edeac182d9640295634dd7bc\n",
            "[%] File Downloaded !\n",
            "\n",
            "[%] Downloading Image #19 from https://minimalismmag.com/wp-content/uploads/2020/06/yNDxUZYFb5QsoMLnLpDea4-650-80.jpg\n",
            "[%] File Downloaded !\n",
            "\n",
            "[%] Downloading Image #20 from http://images1.fanpop.com/images/image_uploads/Lions-lions-1067908_1024_768.jpg\n",
            "[%] File Downloaded !\n",
            "\n",
            "[%] Downloading Image #21 from https://www.buggedspace.com/wp-content/uploads/2020/06/bloody-lion-1-850x477.jpg\n",
            "[%] File Downloaded !\n",
            "\n",
            "[%] Downloading Image #22 from https://static.livebooks.com/e8d690908a5d4f1ba8b4475f6e36ef22/i/c8962c5ee20c4ad18a83495947beda50/1/4SoifmQp7LJ6yDtMuFY2x/20141124-untitled-5974.jpg\n",
            "[Error]Invalid image, not saving https://static.livebooks.com/e8d690908a5d4f1ba8b4475f6e36ef22/i/c8962c5ee20c4ad18a83495947beda50/1/4SoifmQp7LJ6yDtMuFY2x/20141124-untitled-5974.jpg\n",
            "\n",
            "[!] Issue getting: https://static.livebooks.com/e8d690908a5d4f1ba8b4475f6e36ef22/i/c8962c5ee20c4ad18a83495947beda50/1/4SoifmQp7LJ6yDtMuFY2x/20141124-untitled-5974.jpg\n",
            "[!] Error:: Invalid image, not saving https://static.livebooks.com/e8d690908a5d4f1ba8b4475f6e36ef22/i/c8962c5ee20c4ad18a83495947beda50/1/4SoifmQp7LJ6yDtMuFY2x/20141124-untitled-5974.jpg\n",
            "\n",
            "[%] Downloading Image #22 from https://i.pinimg.com/originals/13/83/66/138366d3f778a27a71dafb6760ddba67.jpg\n",
            "[%] File Downloaded !\n",
            "\n",
            "[%] Downloading Image #23 from http://cdn.images.express.co.uk/img/dynamic/galleries/x701/67641.jpg\n",
            "[%] File Downloaded !\n",
            "\n",
            "[%] Downloading Image #24 from https://showme.co.za/nelspruit/files/2013/09/Lions.jpg\n",
            "[%] File Downloaded !\n",
            "\n",
            "[%] Downloading Image #25 from https://imgix.ranker.com/user_node_img/50086/1001705942/original/lions-ate-rhino-poachers-in-the-sibuya-reserve-photo-u1?w=650&amp;q=50&amp;fm=pjpg&amp;fit=crop&amp;crop=faces\n",
            "[Error]Invalid image, not saving https://imgix.ranker.com/user_node_img/50086/1001705942/original/lions-ate-rhino-poachers-in-the-sibuya-reserve-photo-u1?w=650&amp;q=50&amp;fm=pjpg&amp;fit=crop&amp;crop=faces\n",
            "\n",
            "[!] Issue getting: https://imgix.ranker.com/user_node_img/50086/1001705942/original/lions-ate-rhino-poachers-in-the-sibuya-reserve-photo-u1?w=650&amp;q=50&amp;fm=pjpg&amp;fit=crop&amp;crop=faces\n",
            "[!] Error:: Invalid image, not saving https://imgix.ranker.com/user_node_img/50086/1001705942/original/lions-ate-rhino-poachers-in-the-sibuya-reserve-photo-u1?w=650&amp;q=50&amp;fm=pjpg&amp;fit=crop&amp;crop=faces\n",
            "\n",
            "[%] Downloading Image #25 from http://img.playbuzz.com/image/upload/f_auto,fl_lossy,q_auto/cdn/286bb0d5-c085-479e-80c2-5d842cf4c538/062e4e63-e140-40f7-b0c8-6eafb795dcde.jpg\n",
            "[%] File Downloaded !\n",
            "\n",
            "[%] Downloading Image #26 from https://minimalismmag.com/wp-content/uploads/2020/06/vhx8DiyfS33Dz5kYsRHxcN-650-80.jpg\n",
            "[%] File Downloaded !\n",
            "\n",
            "[%] Downloading Image #27 from https://www.ihorror.com/wp-content/uploads/2020/04/Tsavo.jpg\n",
            "[%] File Downloaded !\n",
            "\n",
            "[%] Downloading Image #28 from https://media.londolozi.com/wp-content/uploads/2019/05/19080400/desert-lions-2-1598x1064.jpg\n",
            "[%] File Downloaded !\n",
            "\n",
            "[%] Downloading Image #29 from https://s24990.pcdn.co/wp-content/uploads/2016/05/lion1-400x266.jpg\n",
            "[%] File Downloaded !\n",
            "\n",
            "[%] Downloading Image #30 from https://inhabitat.com/wp-content/blogs.dir/1/files/2016/01/Family-of-Lions-1580x399.jpg\n",
            "[%] File Downloaded !\n",
            "\n",
            "[%] Downloading Image #31 from https://www.thevailvoice.com/wordpress/wp-content/uploads/2015/03/Mountain-Lion.png\n",
            "[%] File Downloaded !\n",
            "\n",
            "[%] Downloading Image #32 from https://www.rouming.cz/archived/true_about_lions.jpg\n",
            "[%] File Downloaded !\n",
            "\n",
            "[%] Downloading Image #33 from https://external-preview.redd.it/v2I20S54EtL7_D3UdoyHRam4MrxavaxrzDem1dRAtEU.jpg?auto=webp&amp;s=4f0a8de9f5d98e629738410814af6e99ba7ccc5a\n",
            "[!] Issue getting: https://external-preview.redd.it/v2I20S54EtL7_D3UdoyHRam4MrxavaxrzDem1dRAtEU.jpg?auto=webp&amp;s=4f0a8de9f5d98e629738410814af6e99ba7ccc5a\n",
            "[!] Error:: HTTP Error 403: Forbidden\n",
            "[%] Downloading Image #33 from https://i0.wp.com/www.mahohboh.org/wp-content/uploads/2020/11/PNG-image-2.png?resize=800%2C447&amp;ssl=1\n",
            "[%] File Downloaded !\n",
            "\n",
            "[%] Downloading Image #34 from https://www.mahohboh.org/wp-content/uploads/2018/09/Cecil.jpg\n",
            "[%] File Downloaded !\n",
            "\n",
            "[%] Downloading Image #35 from https://s3-img.pixpa.com/com/large/51506/1561628508-349442-namibia-02698.jpg\n",
            "[%] File Downloaded !\n",
            "\n",
            "[%] Downloading Image #36 from https://lh3.googleusercontent.com/proxy/4iNi5YYNJIB7s8Yz8L0q_HBuVSo8rePnUg2x70dBgo__i6mI6iRQaMqWHRjgmWpJW0zmvfW9mNYRPeS9hKE9yZqRAtfwWNa5H-4xztYLej32=s0-d\n",
            "[Error]Invalid image, not saving https://lh3.googleusercontent.com/proxy/4iNi5YYNJIB7s8Yz8L0q_HBuVSo8rePnUg2x70dBgo__i6mI6iRQaMqWHRjgmWpJW0zmvfW9mNYRPeS9hKE9yZqRAtfwWNa5H-4xztYLej32=s0-d\n",
            "\n",
            "[!] Issue getting: https://lh3.googleusercontent.com/proxy/4iNi5YYNJIB7s8Yz8L0q_HBuVSo8rePnUg2x70dBgo__i6mI6iRQaMqWHRjgmWpJW0zmvfW9mNYRPeS9hKE9yZqRAtfwWNa5H-4xztYLej32=s0-d\n",
            "[!] Error:: Invalid image, not saving https://lh3.googleusercontent.com/proxy/4iNi5YYNJIB7s8Yz8L0q_HBuVSo8rePnUg2x70dBgo__i6mI6iRQaMqWHRjgmWpJW0zmvfW9mNYRPeS9hKE9yZqRAtfwWNa5H-4xztYLej32=s0-d\n",
            "\n",
            "[%] Downloading Image #36 from http://cdn.thinglink.me/api/image/503247489621557249/1024/10/scaletowidth/0/0/1/1/false/true?wait=true\n",
            "[%] File Downloaded !\n",
            "\n",
            "[%] Downloading Image #37 from https://lh4.googleusercontent.com/-i5uX1M-ZMto/TYM6K5hpQ9I/AAAAAAAAByk/uVkoHQrBVQ0/s1600/Alaska-United-States-nature-sea-lion-family-unfocused-mike.jpg\n",
            "[%] File Downloaded !\n",
            "\n",
            "[%] Downloading Image #38 from https://www.jocolibrary.org/sites/default/files/true_lions5.jpg\n",
            "[%] File Downloaded !\n",
            "\n",
            "[%] Downloading Image #39 from https://www.animalfactsencyclopedia.com/images/1sealionsonrocks.jpg\n",
            "[%] File Downloaded !\n",
            "\n",
            "[%] Downloading Image #40 from https://2.bp.blogspot.com/-YYOgHslOEBM/V9aer5xx6UI/AAAAAAAADoc/SknSmYF69ecQSI5P66-l7y_P4cb5iKiggCLcB/s640/lionssavegirl.jpg\n",
            "[%] File Downloaded !\n",
            "\n",
            "[%] Downloading Image #41 from https://d2cx26qpfwuhvu.cloudfront.net/lions/wp-content/uploads/2020/05/20155823/HandrePollardSb1600SA-1128x635.jpg\n",
            "[%] File Downloaded !\n",
            "\n",
            "[%] Downloading Image #42 from https://images.genius.com/1073100d04089d987586d52069be439c.1000x1000x1.jpg\n",
            "[%] File Downloaded !\n",
            "\n",
            "[%] Downloading Image #43 from https://img.bleacherreport.net/img/images/photos/002/007/775/hi-res-156831239_crop_exact.jpg?w=1200&amp;h=1200&amp;q=75\n",
            "[!] Issue getting: https://img.bleacherreport.net/img/images/photos/002/007/775/hi-res-156831239_crop_exact.jpg?w=1200&amp;h=1200&amp;q=75\n",
            "[!] Error:: HTTP Error 504: GATEWAY_TIMEOUT\n",
            "[%] Downloading Image #43 from https://imagesvc.timeincapp.com/v3/fan/image?url=https://sidelionreport.com/wp-content/uploads/getty-images/2017/07/493256852-chicago-bears-v-detroit-lions.jpg.jpg&amp;\n",
            "[%] File Downloaded !\n",
            "\n",
            "[%] Downloading Image #44 from https://i.pinimg.com/736x/9b/0a/86/9b0a8635247f7f6d4b3cc3cf60c078a9--detroit-lions-matt.jpg\n",
            "[%] File Downloaded !\n",
            "\n",
            "[%] Downloading Image #45 from https://cdn.vox-cdn.com/thumbor/zo2yhecc8UBkqoNXvmzzuHyuC4c=/0x429:2999x1999/fit-in/1200x630/cdn.vox-cdn.com/uploads/chorus_asset/file/21994992/usa_today_15085850.jpg\n",
            "[%] File Downloaded !\n",
            "\n",
            "[%] Downloading Image #46 from https://i.ytimg.com/vi/T0WEyM3ib1Y/maxresdefault.jpg\n",
            "[%] File Downloaded !\n",
            "\n",
            "[%] Downloading Image #47 from https://i.ytimg.com/vi/OhKF0r13hMI/maxresdefault.jpg\n",
            "[%] File Downloaded !\n",
            "\n",
            "[%] Downloading Image #48 from https://cdn.mos.cms.futurecdn.net/LYcS2vf6KxhnwG36NXTQPE-1200-80.jpg\n",
            "[%] File Downloaded !\n",
            "\n",
            "[%] Downloading Image #49 from https://qph.fs.quoracdn.net/main-qimg-8b5a9d3f17047e56aee5fb4c82857c4e\n",
            "[%] File Downloaded !\n",
            "\n",
            "[%] Downloading Image #50 from http://www.trueactivist.com/wp-content/uploads/2016/07/Lion1.png\n",
            "[%] File Downloaded !\n",
            "\n",
            "[%] Downloading Image #51 from https://s3-img.pixpa.com/com/large/51506/1561628527-377369-namibia-02710.jpg\n",
            "[%] File Downloaded !\n",
            "\n",
            "[%] Downloading Image #52 from http://cdn.chatsports.com/thumbnails/511-24779-original.jpeg\n",
            "[%] File Downloaded !\n",
            "\n",
            "[%] Downloading Image #53 from https://lp-cms-production.imgix.net/image_browser/White_Lion_Ngala_2019.jpg?auto=format&amp;fit=crop&amp;sharp=10&amp;vib=20&amp;ixlib=react-8.6.4&amp;w=850\n",
            "[%] File Downloaded !\n",
            "\n",
            "[%] Downloading Image #54 from http://africageographic.com/wp-content/uploads/2014/12/lion-kalahari.jpg\n",
            "[%] File Downloaded !\n",
            "\n",
            "\n",
            "\n",
            "[!!]Indexing page: 2\n",
            "\n",
            "[%] Indexed 35 Images on Page 2.\n",
            "\n",
            "===============================================\n",
            "\n",
            "[%] Downloading Image #55 from http://1.bp.blogspot.com/-WeQqykyLQJE/UOFwCsUW4JI/AAAAAAAAEmY/aPSDjWS111E/s1600/African-Lion.jpg\n",
            "[%] File Downloaded !\n",
            "\n",
            "[%] Downloading Image #56 from http://s24990.pcdn.co/wp-content/uploads/2015/12/Lion_1.jpg\n",
            "[%] File Downloaded !\n",
            "\n",
            "[%] Downloading Image #57 from http://images.yuku.com/image/jpeg/8cb15cf9e17bb327e7a944593c6d7d800013cc6.jpg\n",
            "[%] File Downloaded !\n",
            "\n",
            "[%] Downloading Image #58 from https://3.bp.blogspot.com/-a8xW6J4LB2M/TghXq9k3DCI/AAAAAAAAAMs/LnI11Rcc70Q/s1600/African+Lion3.jpg\n",
            "[%] File Downloaded !\n",
            "\n",
            "[%] Downloading Image #59 from https://i104.photobucket.com/albums/m168/coastwizard/Cryptozoology/Lions of Tsavo/charging_lion3.jpg\n",
            "[!] Issue getting: https://i104.photobucket.com/albums/m168/coastwizard/Cryptozoology/Lions of Tsavo/charging_lion3.jpg\n",
            "[!] Error:: URL can't contain control characters. '/albums/m168/coastwizard/Cryptozoology/Lions of Tsavo/charging_lion3.jpg' (found at least ' ')\n",
            "[%] Downloading Image #59 from https://takeshape-prod.imgix.net/4287fd2a-6d1b-49ae-8432-a325caea49ac/dev/ef37c4f1-da07-494a-b807-5cec9b488d06/male-lions_Ken-Mitchell-Dyball.jpg?auto=compress%2Cformat&amp;fm=pjpg&amp;w=1750\n",
            "[%] File Downloaded !\n",
            "\n",
            "[%] Downloading Image #60 from https://cdn.images.express.co.uk/img/dynamic/galleries/x701/156708.jpg\n",
            "[%] File Downloaded !\n",
            "\n",
            "\n",
            "\n",
            "[%] Done. Downloaded 60 images.\n",
            "===============================================\n",
            "\n",
            "Please show your support here\n",
            "https://www.buymeacoffee.com/gurugaurav\n",
            "\n",
            "===============================================\n",
            "\n"
          ],
          "name": "stdout"
        }
      ]
    },
    {
      "cell_type": "code",
      "metadata": {
        "colab": {
          "base_uri": "https://localhost:8080/"
        },
        "id": "nAL3tLsMocT8",
        "outputId": "b7ac653a-5889-4058-87f3-66f325b4552e"
      },
      "source": [
        "from bing_image_downloader import downloader\n",
        "downloader.download(\"cars\",limit=60,output_dir='images',adult_filter_off=True)"
      ],
      "execution_count": 4,
      "outputs": [
        {
          "output_type": "stream",
          "text": [
            "[%] Downloading Images to /content/images/cars\n",
            "\n",
            "\n",
            "[!!]Indexing page: 1\n",
            "\n",
            "[%] Indexed 60 Images on Page 1.\n",
            "\n",
            "===============================================\n",
            "\n",
            "[%] Downloading Image #1 from http://www.carbodydesign.com/archive/2009/08/05-sv-9-competizione-images/SV-9-Competizione-4-lg.jpg\n",
            "[%] File Downloaded !\n",
            "\n",
            "[%] Downloading Image #2 from https://i.pinimg.com/736x/73/62/d8/7362d822038afc4386906ce9ab2ce58c.jpg\n",
            "[%] File Downloaded !\n",
            "\n",
            "[%] Downloading Image #3 from https://media.whatcar.com/migration/article_inline/fa3f2b3925370291872ddcf823dd8719749dcae6.jpg\n",
            "[%] File Downloaded !\n",
            "\n",
            "[%] Downloading Image #4 from https://media.whatcar.com/migration/article_inline/992febfeab10d474005c3c45d112d723bcbbae66.jpg\n",
            "[%] File Downloaded !\n",
            "\n",
            "[%] Downloading Image #5 from http://shinecoco.com/wp-content/uploads/2020/04/gear_ghouly.jpg\n",
            "[%] File Downloaded !\n",
            "\n",
            "[%] Downloading Image #6 from https://external-preview.redd.it/pbEfLIYe90hFmJFBXWG8K0oXU4ayUl-6-USZlF7G_qk.jpg?auto=webp&amp;s=b2d9b17a5a84826506058e26ddbaeead84d0761a\n",
            "[!] Issue getting: https://external-preview.redd.it/pbEfLIYe90hFmJFBXWG8K0oXU4ayUl-6-USZlF7G_qk.jpg?auto=webp&amp;s=b2d9b17a5a84826506058e26ddbaeead84d0761a\n",
            "[!] Error:: HTTP Error 403: Forbidden\n",
            "[%] Downloading Image #6 from https://s24990.pcdn.co/wp-content/uploads/2019/08/2020-cars1.jpg\n",
            "[%] File Downloaded !\n",
            "\n",
            "[%] Downloading Image #7 from https://cdn.motor1.com/images/mgl/8gJ93/s3/amc-amx-the-first-true-sports-car-of-the-1960s.jpg\n",
            "[%] File Downloaded !\n",
            "\n",
            "[%] Downloading Image #8 from https://media.whatcar.com/wc-image/2019-04/true_mpg_best_and_worst_hybrid_cars.jpg\n",
            "[%] File Downloaded !\n",
            "\n",
            "[%] Downloading Image #9 from https://i.pinimg.com/originals/df/6e/57/df6e57b2d6050b54f683c11d271b1803.jpg\n",
            "[%] File Downloaded !\n",
            "\n",
            "[%] Downloading Image #10 from https://i.pinimg.com/originals/4b/cc/60/4bcc60ef5497f1ac8fddb4b88dc31b5f.jpg\n",
            "[%] File Downloaded !\n",
            "\n",
            "[%] Downloading Image #11 from https://i.ytimg.com/vi/2GFYiV4bmFo/maxresdefault.jpg\n",
            "[%] File Downloaded !\n",
            "\n",
            "[%] Downloading Image #12 from http://jaikrishnaamaruti.com/uploads/truevalue_cars/0_13-08-2020_13-37-04.jpeg\n",
            "[%] File Downloaded !\n",
            "\n",
            "[%] Downloading Image #13 from http://finallylost.com/wp-content/uploads/2017/01/the-cars-in-dubai-is-the-rumor-true-06.jpg\n",
            "[%] File Downloaded !\n",
            "\n",
            "[%] Downloading Image #14 from https://media.whatcar.com/migration/article_inline/31e233fabca887757aba0bb56028fce65792efc4.jpg\n",
            "[%] File Downloaded !\n",
            "\n",
            "[%] Downloading Image #15 from https://static1.thethingsimages.com/wordpress/wp-content/uploads/2020/03/14-Rare-Muscle-Cars-Only-True-Gearheads-Will-Recognize-1.jpg\n",
            "[Error]Invalid image, not saving https://static1.thethingsimages.com/wordpress/wp-content/uploads/2020/03/14-Rare-Muscle-Cars-Only-True-Gearheads-Will-Recognize-1.jpg\n",
            "\n",
            "[!] Issue getting: https://static1.thethingsimages.com/wordpress/wp-content/uploads/2020/03/14-Rare-Muscle-Cars-Only-True-Gearheads-Will-Recognize-1.jpg\n",
            "[!] Error:: Invalid image, not saving https://static1.thethingsimages.com/wordpress/wp-content/uploads/2020/03/14-Rare-Muscle-Cars-Only-True-Gearheads-Will-Recognize-1.jpg\n",
            "\n",
            "[%] Downloading Image #15 from https://i1.wp.com/automothink.com/assets/2020/03/Renault-Trezor.jpg?fit=1280%2C720&amp;ssl=1\n",
            "[%] File Downloaded !\n",
            "\n",
            "[%] Downloading Image #16 from https://i.pinimg.com/originals/d2/ad/d6/d2add6400c95271ff439dc3f4c4f84f3.jpg\n",
            "[%] File Downloaded !\n",
            "\n",
            "[%] Downloading Image #17 from http://farm8.staticflickr.com/7337/10414103015_ceb1b3609e_z.jpg\n",
            "[%] File Downloaded !\n",
            "\n",
            "[%] Downloading Image #18 from https://i.pinimg.com/originals/e8/5a/6c/e85a6cff5b06a5e2a0b94c0f539789a3.jpg\n",
            "[%] File Downloaded !\n",
            "\n",
            "[%] Downloading Image #19 from https://media.whatcar.com/wc-image/2019-06/2-ford-st-diesel-1082018.jpg\n",
            "[%] File Downloaded !\n",
            "\n",
            "[%] Downloading Image #20 from https://media.whatcar.com/wc-image/2020-02/true_mpg_best_and_worst_hybrid_cars.jpg\n",
            "[%] File Downloaded !\n",
            "\n",
            "[%] Downloading Image #21 from https://data.1freewallpapers.com/download/true-blue-chevelle.jpg\n",
            "[%] File Downloaded !\n",
            "\n",
            "[%] Downloading Image #22 from https://i.pinimg.com/originals/ed/60/f1/ed60f18513d8cebfdeddb93e9b72020d.jpg\n",
            "[%] File Downloaded !\n",
            "\n",
            "[%] Downloading Image #23 from https://i.pinimg.com/originals/e7/2f/c1/e72fc1e195456b1e7124a470f4abdfe1.jpg\n",
            "[%] File Downloaded !\n",
            "\n",
            "[%] Downloading Image #24 from https://nhev.in/wp-content/uploads/2020/01/1x-1-1040x693.jpg\n",
            "[%] File Downloaded !\n",
            "\n",
            "[%] Downloading Image #25 from http://jaikrishnaamaruti.com/uploads/truevalue_cars/0_27-01-2018_16-03-53.jpg\n",
            "[%] File Downloaded !\n",
            "\n",
            "[%] Downloading Image #26 from https://shinecoco.com/wp-content/uploads/2020/04/the_young_ruler.jpg\n",
            "[%] File Downloaded !\n",
            "\n",
            "[%] Downloading Image #27 from https://media.whatcar.com/wc-image/2020-01/executive_cars_-_true_mpg.jpg\n",
            "[%] File Downloaded !\n",
            "\n",
            "[%] Downloading Image #28 from https://images.cdn.circlesix.co/image/2/1200/630/5/uploads/posts/2017/03/8f85892a342ffe6757f17aee21e91078.jpg\n",
            "[Error]Invalid image, not saving https://images.cdn.circlesix.co/image/2/1200/630/5/uploads/posts/2017/03/8f85892a342ffe6757f17aee21e91078.jpg\n",
            "\n",
            "[!] Issue getting: https://images.cdn.circlesix.co/image/2/1200/630/5/uploads/posts/2017/03/8f85892a342ffe6757f17aee21e91078.jpg\n",
            "[!] Error:: Invalid image, not saving https://images.cdn.circlesix.co/image/2/1200/630/5/uploads/posts/2017/03/8f85892a342ffe6757f17aee21e91078.jpg\n",
            "\n",
            "[%] Downloading Image #28 from https://media.whatcar.com/wc-image/2019-05/truempgengines.jpg\n",
            "[%] File Downloaded !\n",
            "\n",
            "[%] Downloading Image #29 from https://static2.hotcarsimages.com/wordpress/wp-content/uploads/2020/12/Toyota-Celica-GT-Four-Front.jpg\n",
            "[%] File Downloaded !\n",
            "\n",
            "[%] Downloading Image #30 from https://media.whatcar.com/wc-image/2020-01/suzuki_ignis_-_true_mpg_logo.jpg\n",
            "[%] File Downloaded !\n",
            "\n",
            "[%] Downloading Image #31 from https://www.usedcars-cars.com/wp-content/uploads/2018/09/true-car.com-used-cars-best-of-truecar-used-cars-Â-car-wallpaper-of-true-car.com-used-cars.jpg\n",
            "[!] Issue getting: https://www.usedcars-cars.com/wp-content/uploads/2018/09/true-car.com-used-cars-best-of-truecar-used-cars-Â-car-wallpaper-of-true-car.com-used-cars.jpg\n",
            "[!] Error:: 'ascii' codec can't encode character '\\xc2' in position 81: ordinal not in range(128)\n",
            "[%] Downloading Image #31 from https://media.whatcar.com/migration/slideshows/6e17043a25e21ebf50dae00e6540b08abd16192e.jpg\n",
            "[%] File Downloaded !\n",
            "\n",
            "[%] Downloading Image #32 from https://media.whatcar.com/wc-image/2020-01/nissanqashaidieseltruempg.jpg\n",
            "[%] File Downloaded !\n",
            "\n",
            "[%] Downloading Image #33 from https://media.whatcar.com/wc-image/2020-01/most_efficient_1.0-litre_cars_-_true_mpg.jpg\n",
            "[%] File Downloaded !\n",
            "\n",
            "[%] Downloading Image #34 from http://jaikrishnaamaruti.com/uploads/truevalue_cars/0_06-03-2018_11-36-40.jpg\n",
            "[%] File Downloaded !\n",
            "\n",
            "[%] Downloading Image #35 from https://static1.thethingsimages.com/wordpress/wp-content/uploads/2020/05/untitled-59-1.jpg\n",
            "[Error]Invalid image, not saving https://static1.thethingsimages.com/wordpress/wp-content/uploads/2020/05/untitled-59-1.jpg\n",
            "\n",
            "[!] Issue getting: https://static1.thethingsimages.com/wordpress/wp-content/uploads/2020/05/untitled-59-1.jpg\n",
            "[!] Error:: Invalid image, not saving https://static1.thethingsimages.com/wordpress/wp-content/uploads/2020/05/untitled-59-1.jpg\n",
            "\n",
            "[%] Downloading Image #35 from https://media.whatcar.com/migration/reviews/95bb3932f4af6d8e2009d2c4c484b9318428e0c1.jpg\n",
            "[%] File Downloaded !\n",
            "\n",
            "[%] Downloading Image #36 from https://media.whatcar.com/migration/article_inline/09d6b3d2ce40e5bc7796d23093e7bc19cb467ac5.jpg\n",
            "[%] File Downloaded !\n",
            "\n",
            "[%] Downloading Image #37 from https://i.ytimg.com/vi/aPjSqzTeFAQ/maxresdefault.jpg\n",
            "[%] File Downloaded !\n",
            "\n",
            "[%] Downloading Image #38 from https://live.staticflickr.com/1728/40971857720_c8378dff6d_z.jpg\n",
            "[Error]Invalid image, not saving https://live.staticflickr.com/1728/40971857720_c8378dff6d_z.jpg\n",
            "\n",
            "[!] Issue getting: https://live.staticflickr.com/1728/40971857720_c8378dff6d_z.jpg\n",
            "[!] Error:: Invalid image, not saving https://live.staticflickr.com/1728/40971857720_c8378dff6d_z.jpg\n",
            "\n",
            "[%] Downloading Image #38 from https://trueprice.co.za/images/news/which-suvs-have-the-best-resale-value.jpg\n",
            "[%] File Downloaded !\n",
            "\n",
            "[%] Downloading Image #39 from http://jaikrishnaamaruti.com/uploads/truevalue_cars/0_17-10-2016_13-07-35.jpg\n",
            "[%] File Downloaded !\n",
            "\n",
            "[%] Downloading Image #40 from https://autowise.com/wp-content/uploads/2015/10/Feature.jpg\n",
            "[%] File Downloaded !\n",
            "\n",
            "[%] Downloading Image #41 from https://wallup.net/wp-content/uploads/2019/09/07/1016970-2509-french-true-speedster-swb-figoni-cars-cutaway-1931.jpg\n",
            "[%] File Downloaded !\n",
            "\n",
            "[%] Downloading Image #42 from https://i.pinimg.com/originals/eb/bd/9d/ebbd9d37ae4979ae318582d559dd1b46.jpg\n",
            "[%] File Downloaded !\n",
            "\n",
            "[%] Downloading Image #43 from https://i.ytimg.com/vi/m-UeGrrVc6w/maxresdefault.jpg\n",
            "[%] File Downloaded !\n",
            "\n",
            "[%] Downloading Image #44 from https://i.pinimg.com/originals/44/1e/c1/441ec1d3110158e1f169506655ca1104.jpg\n",
            "[%] File Downloaded !\n",
            "\n",
            "[%] Downloading Image #45 from https://c1.staticflickr.com/8/7769/26783099440_61c0e7992e_z.jpg\n",
            "[%] File Downloaded !\n",
            "\n",
            "[%] Downloading Image #46 from http://1.bp.blogspot.com/-_3VVJiMycyU/Txcr_ie8khI/AAAAAAAABac/DHtSdMte40w/w1200-h630-p-k-no-nu/lagondatulipwood.jpg\n",
            "[%] File Downloaded !\n",
            "\n",
            "[%] Downloading Image #47 from https://media.whatcar.com/wc-image/2019-04/8a-bb40de0079c436ba571fec8e6dbbad1b932b293a.jpg\n",
            "[%] File Downloaded !\n",
            "\n",
            "[%] Downloading Image #48 from https://i.pinimg.com/736x/7e/e2/ba/7ee2baf9c6cc01fb2785c2e2528c216f.jpg\n",
            "[%] File Downloaded !\n",
            "\n",
            "[%] Downloading Image #49 from https://farm5.staticflickr.com/4110/5027971302_35ec2b05d5_z.jpg\n",
            "[%] File Downloaded !\n",
            "\n",
            "[%] Downloading Image #50 from https://i.pinimg.com/originals/e8/10/bf/e810bf6cec53baa2a08690eee0ca8b3b.jpg\n",
            "[%] File Downloaded !\n",
            "\n",
            "[%] Downloading Image #51 from http://jaikrishnaamaruti.com/uploads/truevalue_cars/0_06-03-2018_14-16-55.jpg\n",
            "[%] File Downloaded !\n",
            "\n",
            "[%] Downloading Image #52 from https://c1.staticflickr.com/7/6125/5983936974_57073cc28e_b.jpg\n",
            "[%] File Downloaded !\n",
            "\n",
            "[%] Downloading Image #53 from https://www.gannett-cdn.com/-mm-/7e482a443740f52337eba28dff4794963c9ca5ad/c=0-307-2996-2000/local/-/media/2018/01/10/DetroitFreeP/DetroitFreePress/636512020487425338-AP-Gadget-Show-Ford-NVJH202.jpg?width=3200&amp;height=1680&amp;fit=crop\n",
            "[%] File Downloaded !\n",
            "\n",
            "[%] Downloading Image #54 from https://confusedmedia.azureedge.net/custom-cms-widgets/external/supercars/resources/images/photos/makingof-image4.jpg\n",
            "[%] File Downloaded !\n",
            "\n",
            "\n",
            "\n",
            "[!!]Indexing page: 2\n",
            "\n",
            "[%] Indexed 35 Images on Page 2.\n",
            "\n",
            "===============================================\n",
            "\n",
            "[%] Downloading Image #55 from http://www.carbodydesign.com/archive/2009/08/05-sv-9-competizione-images/SV-9-Competizione-4-lg.jpg\n",
            "[%] File Downloaded !\n",
            "\n",
            "[%] Downloading Image #56 from https://i.pinimg.com/736x/73/62/d8/7362d822038afc4386906ce9ab2ce58c.jpg\n",
            "[%] File Downloaded !\n",
            "\n",
            "[%] Downloading Image #57 from https://media.whatcar.com/migration/article_inline/fa3f2b3925370291872ddcf823dd8719749dcae6.jpg\n",
            "[%] File Downloaded !\n",
            "\n",
            "[%] Downloading Image #58 from https://media.whatcar.com/migration/article_inline/992febfeab10d474005c3c45d112d723bcbbae66.jpg\n",
            "[%] File Downloaded !\n",
            "\n",
            "[%] Downloading Image #59 from http://shinecoco.com/wp-content/uploads/2020/04/gear_ghouly.jpg\n",
            "[%] File Downloaded !\n",
            "\n",
            "[%] Downloading Image #60 from https://external-preview.redd.it/pbEfLIYe90hFmJFBXWG8K0oXU4ayUl-6-USZlF7G_qk.jpg?auto=webp&amp;s=b2d9b17a5a84826506058e26ddbaeead84d0761a\n",
            "[!] Issue getting: https://external-preview.redd.it/pbEfLIYe90hFmJFBXWG8K0oXU4ayUl-6-USZlF7G_qk.jpg?auto=webp&amp;s=b2d9b17a5a84826506058e26ddbaeead84d0761a\n",
            "[!] Error:: HTTP Error 403: Forbidden\n",
            "[%] Downloading Image #60 from https://s24990.pcdn.co/wp-content/uploads/2019/08/2020-cars1.jpg\n",
            "[%] File Downloaded !\n",
            "\n",
            "\n",
            "\n",
            "[%] Done. Downloaded 60 images.\n",
            "===============================================\n",
            "\n",
            "Please show your support here\n",
            "https://www.buymeacoffee.com/gurugaurav\n",
            "\n",
            "===============================================\n",
            "\n"
          ],
          "name": "stdout"
        }
      ]
    },
    {
      "cell_type": "code",
      "metadata": {
        "colab": {
          "base_uri": "https://localhost:8080/"
        },
        "id": "aW3aVZKAoy6N",
        "outputId": "dd4e322a-d786-4590-e899-0cf3f880487d"
      },
      "source": [
        "from bing_image_downloader import downloader\n",
        "downloader.download(\"ducks\",limit=60,output_dir='images',adult_filter_off=True)"
      ],
      "execution_count": 5,
      "outputs": [
        {
          "output_type": "stream",
          "text": [
            "[%] Downloading Images to /content/images/ducks\n",
            "\n",
            "\n",
            "[!!]Indexing page: 1\n",
            "\n",
            "[%] Indexed 60 Images on Page 1.\n",
            "\n",
            "===============================================\n",
            "\n",
            "[%] Downloading Image #1 from http://3.bp.blogspot.com/-ogkSpbuCps4/TWG3DGdHkWI/AAAAAAAAA8M/UNBClDd1yLE/s1600/white-duck-water.jpg\n",
            "[%] File Downloaded !\n",
            "\n",
            "[%] Downloading Image #2 from https://whyevolutionistrue.com/wp-content/uploads/2018/03/p1150068.jpg\n",
            "[%] File Downloaded !\n",
            "\n",
            "[%] Downloading Image #3 from https://whyevolutionistrue.com/wp-content/uploads/2021/01/P1020719-2048x1536.jpg\n",
            "[%] File Downloaded !\n",
            "\n",
            "[%] Downloading Image #4 from https://www.waterfowl.org.uk/wpnew/wp-content/uploads/2019/09/Redhead-thumb-1024x1024.png\n",
            "[%] File Downloaded !\n",
            "\n",
            "[%] Downloading Image #5 from https://www.waterfowl.org.uk/wpnew/wp-content/uploads/2019/11/Flying-Steamerduck-thumb-AL-1024x1024.jpg\n",
            "[%] File Downloaded !\n",
            "\n",
            "[%] Downloading Image #6 from https://i.pinimg.com/originals/fd/43/cf/fd43cf371f097149701739127afa4d15.jpg\n",
            "[%] File Downloaded !\n",
            "\n",
            "[%] Downloading Image #7 from https://i0.wp.com/www.thehallofeinar.com/wp-content/uploads/2018/04/The-Hall-of-Einar-0739.jpg?ssl=1\n",
            "[%] File Downloaded !\n",
            "\n",
            "[%] Downloading Image #8 from https://www.waterfowl.org.uk/wpnew/wp-content/uploads/2019/10/African-Pygmy-goose-PV-768x768.png\n",
            "[%] File Downloaded !\n",
            "\n",
            "[%] Downloading Image #9 from https://www.waterfowl.org.uk/wpnew/wp-content/uploads/2019/10/Brazilian-Teal-thumb-IG-1024x1024.jpg\n",
            "[%] File Downloaded !\n",
            "\n",
            "[%] Downloading Image #10 from https://www.waterfowl.org.uk/wpnew/wp-content/uploads/2019/09/Paradise-Shelduck-EOG-768x748.jpeg\n",
            "[%] File Downloaded !\n",
            "\n",
            "[%] Downloading Image #11 from https://upload.wikimedia.org/wikipedia/commons/thumb/3/3f/Ducks_(11128183215).jpg/1280px-Ducks_(11128183215).jpg\n",
            "[%] File Downloaded !\n",
            "\n",
            "[%] Downloading Image #12 from https://www.waterfowl.org.uk/wpnew/wp-content/uploads/2019/10/African-Yellowbill-Slimbridge-20-1024x1024.jpg\n",
            "[%] File Downloaded !\n",
            "\n",
            "[%] Downloading Image #13 from https://www.backyardchickens.com/content/type/61/id/6379741/width/200/height/400\n",
            "[%] File Downloaded !\n",
            "\n",
            "[%] Downloading Image #14 from https://www.waterfowl.org.uk/wpnew/wp-content/uploads/2019/10/Black-Scoter-thumb-IG-e1574885828419-1024x1024.jpeg\n",
            "[%] File Downloaded !\n",
            "\n",
            "[%] Downloading Image #15 from https://upload.wikimedia.org/wikipedia/commons/thumb/d/d3/Wood_Duck_(Aix_sponsa)%2C_Parc_du_Rouge-Cloître%2C_Brussels.jpg/1200px-Wood_Duck_(Aix_sponsa)%2C_Parc_du_Rouge-Cloître%2C_Brussels.jpg\n",
            "[!] Issue getting: https://upload.wikimedia.org/wikipedia/commons/thumb/d/d3/Wood_Duck_(Aix_sponsa)%2C_Parc_du_Rouge-Cloître%2C_Brussels.jpg/1200px-Wood_Duck_(Aix_sponsa)%2C_Parc_du_Rouge-Cloître%2C_Brussels.jpg\n",
            "[!] Error:: 'ascii' codec can't encode character '\\xee' in position 77: ordinal not in range(128)\n",
            "[%] Downloading Image #15 from https://www.waterfowl.org.uk/wpnew/wp-content/uploads/2019/10/Australian-Shoveler-IG-1024x1024.png\n",
            "[%] File Downloaded !\n",
            "\n",
            "[%] Downloading Image #16 from https://www.waterfowl.org.uk/wpnew/wp-content/uploads/2019/10/Puna-Teal-thumb-Pinola-768x768.png\n",
            "[%] File Downloaded !\n",
            "\n",
            "[%] Downloading Image #17 from https://www.waterfowl.org.uk/wpnew/wp-content/uploads/2019/07/Rosybill-1024x1024.jpg\n",
            "[%] File Downloaded !\n",
            "\n",
            "[%] Downloading Image #18 from https://www.waterfowl.org.uk/wpnew/wp-content/uploads/2019/10/Ferruginous-drake-thumb-EOG-1024x1024.jpg\n",
            "[%] File Downloaded !\n",
            "\n",
            "[%] Downloading Image #19 from https://www.waterfowl.org.uk/wpnew/wp-content/uploads/2019/10/Grey-Teal-thumb-IG-e1574884977869-1024x1024.jpeg\n",
            "[%] File Downloaded !\n",
            "\n",
            "[%] Downloading Image #20 from https://images.squarespace-cdn.com/content/v1/587d6250d482e9eee8c47666/1508992590844-0XL624JRBWQS21DO4P97/ke17ZwdGBToddI8pDm48kMEscrJZt_tmaeDMTaC3Grd7gQa3H78H3Y0txjaiv_0fDoOvxcdMmMKkDsyUqMSsMWxHk725yiiHCCLfrh8O1z5QPOohDIaIeljMHgDF5CVlOqpeNLcJ80NK65_fV7S1USasn69Hr34dwVEWwP0LjT7TmWk4ozqjQRTjqwHqVncSD8iN_TR6rJlKCdD_scFx3Q/GeoffBall01_DSLRBeginnersT3.jpg\n",
            "[Error]Invalid image, not saving https://images.squarespace-cdn.com/content/v1/587d6250d482e9eee8c47666/1508992590844-0XL624JRBWQS21DO4P97/ke17ZwdGBToddI8pDm48kMEscrJZt_tmaeDMTaC3Grd7gQa3H78H3Y0txjaiv_0fDoOvxcdMmMKkDsyUqMSsMWxHk725yiiHCCLfrh8O1z5QPOohDIaIeljMHgDF5CVlOqpeNLcJ80NK65_fV7S1USasn69Hr34dwVEWwP0LjT7TmWk4ozqjQRTjqwHqVncSD8iN_TR6rJlKCdD_scFx3Q/GeoffBall01_DSLRBeginnersT3.jpg\n",
            "\n",
            "[!] Issue getting: https://images.squarespace-cdn.com/content/v1/587d6250d482e9eee8c47666/1508992590844-0XL624JRBWQS21DO4P97/ke17ZwdGBToddI8pDm48kMEscrJZt_tmaeDMTaC3Grd7gQa3H78H3Y0txjaiv_0fDoOvxcdMmMKkDsyUqMSsMWxHk725yiiHCCLfrh8O1z5QPOohDIaIeljMHgDF5CVlOqpeNLcJ80NK65_fV7S1USasn69Hr34dwVEWwP0LjT7TmWk4ozqjQRTjqwHqVncSD8iN_TR6rJlKCdD_scFx3Q/GeoffBall01_DSLRBeginnersT3.jpg\n",
            "[!] Error:: Invalid image, not saving https://images.squarespace-cdn.com/content/v1/587d6250d482e9eee8c47666/1508992590844-0XL624JRBWQS21DO4P97/ke17ZwdGBToddI8pDm48kMEscrJZt_tmaeDMTaC3Grd7gQa3H78H3Y0txjaiv_0fDoOvxcdMmMKkDsyUqMSsMWxHk725yiiHCCLfrh8O1z5QPOohDIaIeljMHgDF5CVlOqpeNLcJ80NK65_fV7S1USasn69Hr34dwVEWwP0LjT7TmWk4ozqjQRTjqwHqVncSD8iN_TR6rJlKCdD_scFx3Q/GeoffBall01_DSLRBeginnersT3.jpg\n",
            "\n",
            "[%] Downloading Image #20 from https://www.waterfowl.org.uk/wpnew/wp-content/uploads/2019/10/Red-Shoveler-thumb-MJ-768x768.jpg\n",
            "[%] File Downloaded !\n",
            "\n",
            "[%] Downloading Image #21 from https://www.waterfowl.org.uk/wpnew/wp-content/uploads/2019/10/Brazilian-Merganser-thumb-Itataba-1024x1024.png\n",
            "[%] File Downloaded !\n",
            "\n",
            "[%] Downloading Image #22 from http://kiddopedia.net/wp-content/uploads/2016/07/duck-facts-thumbnail-v2.jpg\n",
            "[%] File Downloaded !\n",
            "\n",
            "[%] Downloading Image #23 from https://i.kinja-img.com/gawker-media/image/upload/t_original/d6piraqthwz7f8xfkcp0.jpg\n",
            "[%] File Downloaded !\n",
            "\n",
            "[%] Downloading Image #24 from https://www.waterfowl.org.uk/wpnew/wp-content/uploads/2019/10/Hawaiian-Duck-thumb-IG-300x300.png?x36547\n",
            "[%] File Downloaded !\n",
            "\n",
            "[%] Downloading Image #25 from https://www.waterfowl.org.uk/wpnew/wp-content/uploads/2019/10/Silver-Teal-thumb-1024x1022.jpg\n",
            "[%] File Downloaded !\n",
            "\n",
            "[%] Downloading Image #26 from https://www.waterfowl.org.uk/wpnew/wp-content/uploads/2019/10/Blue-winged-teal-thumb-Pinola-300x300.jpeg?x36547\n",
            "[%] File Downloaded !\n",
            "\n",
            "[%] Downloading Image #27 from https://4.bp.blogspot.com/-TV4Bha4sx5Y/Te6e_FtLjOI/AAAAAAAAIaU/TAZDOoLQ1mk/s1600/usnea-ducks%2B010.JPG\n",
            "[%] File Downloaded !\n",
            "\n",
            "[%] Downloading Image #28 from https://farm4.staticflickr.com/3733/13934985883_05ca9c3927.jpg\n",
            "[%] File Downloaded !\n",
            "\n",
            "[%] Downloading Image #29 from https://www.raising-ducks.com/wp-content/uploads/2019/01/MuscovyDuckHeader-1.jpg\n",
            "[%] File Downloaded !\n",
            "\n",
            "[%] Downloading Image #30 from https://i.ytimg.com/vi/3cSepCcxkZE/maxresdefault.jpg\n",
            "[%] File Downloaded !\n",
            "\n",
            "[%] Downloading Image #31 from https://www.waterfowl.org.uk/wpnew/wp-content/uploads/2019/10/Blue-Duck-thumb-IG-300x300.jpeg?x36547\n",
            "[%] File Downloaded !\n",
            "\n",
            "[%] Downloading Image #32 from https://farmhouseguide.com/wp-content/uploads/2020/08/couple-ducks.jpg\n",
            "[%] File Downloaded !\n",
            "\n",
            "[%] Downloading Image #33 from https://www.waterfowl.org.uk/wpnew/wp-content/uploads/2019/09/Indian-Cotton-Pygmy-Goose-JoB-300x300.png?x36547\n",
            "[%] File Downloaded !\n",
            "\n",
            "[%] Downloading Image #34 from https://www.waterfowl.org.uk/wpnew/wp-content/uploads/2019/09/Wood-Duck-thumb-e1574887054333-300x300.jpg?x36547\n",
            "[%] File Downloaded !\n",
            "\n",
            "[%] Downloading Image #35 from https://www.waterfowl.org.uk/wpnew/wp-content/uploads/2019/10/DSCF0375-300x300.jpg?x36547\n",
            "[%] File Downloaded !\n",
            "\n",
            "[%] Downloading Image #36 from https://i.pinimg.com/736x/8c/f7/26/8cf726dd79cf69e1909ad24677c4d875--duck-species-mandarin-duck.jpg\n",
            "[%] File Downloaded !\n",
            "\n",
            "[%] Downloading Image #37 from https://www.trueactivist.com/wp-content/uploads/2017/03/duck3.jpg\n",
            "[%] File Downloaded !\n",
            "\n",
            "[%] Downloading Image #38 from https://www.waterfowl.org.uk/wpnew/wp-content/uploads/2019/10/Green-Pygmy-Goose-thumb-IG-1024x1024.jpeg\n",
            "[%] File Downloaded !\n",
            "\n",
            "[%] Downloading Image #39 from https://cdn.virily.com/wp-content/uploads/2018/04/P4210452-1.jpg\n",
            "[%] File Downloaded !\n",
            "\n",
            "[%] Downloading Image #40 from http://i1.ytimg.com/vi/6k01DIVDJlY/maxresdefault.jpg\n",
            "[%] File Downloaded !\n",
            "\n",
            "[%] Downloading Image #41 from https://www.backyardchickens.com/content/type/61/id/6968122/width/200/height/400\n",
            "[%] File Downloaded !\n",
            "\n",
            "[%] Downloading Image #42 from https://www.backyardchickens.com/content/type/61/id/6966820/width/200/height/400\n",
            "[%] File Downloaded !\n",
            "\n",
            "[%] Downloading Image #43 from https://i1.wp.com/whyevolutionistrue.com/wp-content/uploads/2020/10/p1010982.jpg?resize=768%2C576&amp;ssl=1\n",
            "[%] File Downloaded !\n",
            "\n",
            "[%] Downloading Image #44 from http://www.trueactivist.com/wp-content/uploads/2017/03/duck2-1024x768.jpg\n",
            "[%] File Downloaded !\n",
            "\n",
            "[%] Downloading Image #45 from https://i2.wp.com/fishgame.com/wp-content/uploads/2016/12/pintail.jpg?fit=800%2C600&amp;ssl=1\n",
            "[%] File Downloaded !\n",
            "\n",
            "[%] Downloading Image #46 from https://www.waterfowl.org.uk/wpnew/wp-content/uploads/2020/02/South-African-Shelduck-300x300.jpg?x36547\n",
            "[%] File Downloaded !\n",
            "\n",
            "[%] Downloading Image #47 from https://i.ytimg.com/vi/fWJMSK11rn4/maxresdefault.jpg\n",
            "[%] File Downloaded !\n",
            "\n",
            "[%] Downloading Image #48 from https://www.kellogggarden.com/wp-content/uploads/2018/01/raising-ducks.jpg\n",
            "[%] File Downloaded !\n",
            "\n",
            "[%] Downloading Image #49 from https://www.waterfowl.org.uk/wpnew/wp-content/uploads/2019/09/Hardhead-thumb-Pinola-768x768.png\n",
            "[%] File Downloaded !\n",
            "\n",
            "[%] Downloading Image #50 from https://i.pinimg.com/originals/6d/27/87/6d27876c2b5631b6eb384028b2c539e8.jpg\n",
            "[%] File Downloaded !\n",
            "\n",
            "[%] Downloading Image #51 from https://i1.wp.com/truepundit.com/wp-content/uploads/2017/09/Rubber_duckies_So_many_ducks.jpg?fit=1200%2C900&amp;ssl=1\n",
            "[%] File Downloaded !\n",
            "\n",
            "[%] Downloading Image #52 from https://www.waterfowl.org.uk/wpnew/wp-content/uploads/2019/10/Common-Pochard-thumb-Pinola-768x768.png\n",
            "[%] File Downloaded !\n",
            "\n",
            "[%] Downloading Image #53 from https://animalhype.com/wp-content/uploads/2019/05/Do-Ducks-Have-Teeth.jpg\n",
            "[%] File Downloaded !\n",
            "\n",
            "[%] Downloading Image #54 from https://www.waterfowl.org.uk/wpnew/wp-content/uploads/2019/10/Crested-Duck-768x768.png\n",
            "[%] File Downloaded !\n",
            "\n",
            "[%] Downloading Image #55 from https://www.waterfowl.org.uk/wpnew/wp-content/uploads/2019/10/Cape-Shoveler-thumb-IG-300x300.jpeg?x36547\n",
            "[%] File Downloaded !\n",
            "\n",
            "[%] Downloading Image #56 from https://sbly-web-prod-shareably.netdna-ssl.com/wp-content/uploads/2020/08/07220108/Cover-Photo-3-6.jpg\n",
            "[%] File Downloaded !\n",
            "\n",
            "[%] Downloading Image #57 from https://i0.wp.com/thefarmbarbie.com/wp-content/uploads/2016/02/ducks-in-snow.jpg\n",
            "[%] File Downloaded !\n",
            "\n",
            "[%] Downloading Image #58 from https://www.waterfowl.org.uk/wpnew/wp-content/uploads/2019/10/muscovy-duck-pairs-1-1-1-1024x505.jpg?x36547\n",
            "[%] File Downloaded !\n",
            "\n",
            "\n",
            "\n",
            "[!!]Indexing page: 2\n",
            "\n",
            "[%] Indexed 35 Images on Page 2.\n",
            "\n",
            "===============================================\n",
            "\n",
            "[%] Downloading Image #59 from http://3.bp.blogspot.com/-ogkSpbuCps4/TWG3DGdHkWI/AAAAAAAAA8M/UNBClDd1yLE/s1600/white-duck-water.jpg\n",
            "[%] File Downloaded !\n",
            "\n",
            "[%] Downloading Image #60 from https://whyevolutionistrue.com/wp-content/uploads/2018/03/p1150068.jpg\n",
            "[%] File Downloaded !\n",
            "\n",
            "\n",
            "\n",
            "[%] Done. Downloaded 60 images.\n",
            "===============================================\n",
            "\n",
            "Please show your support here\n",
            "https://www.buymeacoffee.com/gurugaurav\n",
            "\n",
            "===============================================\n",
            "\n"
          ],
          "name": "stdout"
        }
      ]
    },
    {
      "cell_type": "code",
      "metadata": {
        "colab": {
          "base_uri": "https://localhost:8080/"
        },
        "id": "NyHK-IODo7iC",
        "outputId": "774cbe87-c017-456e-a57e-9d31d2e80b9c"
      },
      "source": [
        "!pip install ipython-autotime\n",
        "%load_ext autotime"
      ],
      "execution_count": 6,
      "outputs": [
        {
          "output_type": "stream",
          "text": [
            "Collecting ipython-autotime\n",
            "  Downloading https://files.pythonhosted.org/packages/b4/c9/b413a24f759641bc27ef98c144b590023c8038dfb8a3f09e713e9dff12c1/ipython_autotime-0.3.1-py2.py3-none-any.whl\n",
            "Requirement already satisfied: ipython in /usr/local/lib/python3.7/dist-packages (from ipython-autotime) (5.5.0)\n",
            "Requirement already satisfied: prompt-toolkit<2.0.0,>=1.0.4 in /usr/local/lib/python3.7/dist-packages (from ipython->ipython-autotime) (1.0.18)\n",
            "Requirement already satisfied: setuptools>=18.5 in /usr/local/lib/python3.7/dist-packages (from ipython->ipython-autotime) (57.0.0)\n",
            "Requirement already satisfied: simplegeneric>0.8 in /usr/local/lib/python3.7/dist-packages (from ipython->ipython-autotime) (0.8.1)\n",
            "Requirement already satisfied: pygments in /usr/local/lib/python3.7/dist-packages (from ipython->ipython-autotime) (2.6.1)\n",
            "Requirement already satisfied: decorator in /usr/local/lib/python3.7/dist-packages (from ipython->ipython-autotime) (4.4.2)\n",
            "Requirement already satisfied: traitlets>=4.2 in /usr/local/lib/python3.7/dist-packages (from ipython->ipython-autotime) (5.0.5)\n",
            "Requirement already satisfied: pexpect; sys_platform != \"win32\" in /usr/local/lib/python3.7/dist-packages (from ipython->ipython-autotime) (4.8.0)\n",
            "Requirement already satisfied: pickleshare in /usr/local/lib/python3.7/dist-packages (from ipython->ipython-autotime) (0.7.5)\n",
            "Requirement already satisfied: six>=1.9.0 in /usr/local/lib/python3.7/dist-packages (from prompt-toolkit<2.0.0,>=1.0.4->ipython->ipython-autotime) (1.15.0)\n",
            "Requirement already satisfied: wcwidth in /usr/local/lib/python3.7/dist-packages (from prompt-toolkit<2.0.0,>=1.0.4->ipython->ipython-autotime) (0.2.5)\n",
            "Requirement already satisfied: ipython-genutils in /usr/local/lib/python3.7/dist-packages (from traitlets>=4.2->ipython->ipython-autotime) (0.2.0)\n",
            "Requirement already satisfied: ptyprocess>=0.5 in /usr/local/lib/python3.7/dist-packages (from pexpect; sys_platform != \"win32\"->ipython->ipython-autotime) (0.7.0)\n",
            "Installing collected packages: ipython-autotime\n",
            "Successfully installed ipython-autotime-0.3.1\n",
            "time: 448 µs (started: 2021-06-24 15:30:11 +00:00)\n"
          ],
          "name": "stdout"
        }
      ]
    },
    {
      "cell_type": "code",
      "metadata": {
        "colab": {
          "base_uri": "https://localhost:8080/"
        },
        "id": "3n0nunx1pIYz",
        "outputId": "0034a313-c660-45bd-ca31-45b7b6978f01"
      },
      "source": [
        "import os\n",
        "import matplotlib.pyplot as plt\n",
        "import numpy as np \n",
        "from skimage.io import imread\n",
        "from skimage.transform import resize\n",
        "target=[]\n",
        "images=[]\n",
        "flat_data=[]\n",
        "DATADIR='/content/images'\n",
        "CATEGORIES=['lions','cars','ducks']\n",
        "for category in CATEGORIES:\n",
        "  class_num=CATEGORIES.index(category)\n",
        "  path=os.path.join(DATADIR,category)\n",
        "  for img in os.listdir(path):\n",
        "    img_array=imread(os.path.join(path,img))\n",
        "    #plt.imshow(img_array)\n",
        "    img_resized=resize(img_array,(150,150,3))\n",
        "    flat_data.append(img_resized.flatten())\n",
        "    images.append(img_resized)\n",
        "    target.append(class_num)\n",
        "flat_data=np.array(flat_data)\n",
        "target=np.array(target)\n",
        "images=np.array(images)"
      ],
      "execution_count": 7,
      "outputs": [
        {
          "output_type": "stream",
          "text": [
            "time: 56.2 s (started: 2021-06-24 15:30:53 +00:00)\n"
          ],
          "name": "stdout"
        }
      ]
    },
    {
      "cell_type": "code",
      "metadata": {
        "colab": {
          "base_uri": "https://localhost:8080/"
        },
        "id": "TvperCrhpTYr",
        "outputId": "8096f589-1442-4072-e0b9-25955b0f75ef"
      },
      "source": [
        "from sklearn.model_selection import train_test_split\n",
        "x_train,x_test,y_train,y_test=train_test_split(flat_data,target,test_size=0.3,random_state=100)"
      ],
      "execution_count": 8,
      "outputs": [
        {
          "output_type": "stream",
          "text": [
            "time: 266 ms (started: 2021-06-24 15:32:12 +00:00)\n"
          ],
          "name": "stdout"
        }
      ]
    },
    {
      "cell_type": "code",
      "metadata": {
        "colab": {
          "base_uri": "https://localhost:8080/"
        },
        "id": "_3RQO7-Dpmvt",
        "outputId": "192d7ca5-9d04-417f-869d-00d82c5127d6"
      },
      "source": [
        "from sklearn.model_selection import GridSearchCV\n",
        "from sklearn import svm\n",
        "param_grid=[\n",
        "            {'C':[1,10,100,1000],'kernel':['linear']},\n",
        "            {'C':[1,10,100,1000],'gamma':[0.001,0.0001],'kernel':['rbf']},\n",
        "]\n",
        "svc=svm.SVC(probability=True)\n",
        "clf=GridSearchCV(svc,param_grid)\n",
        "clf.fit(x_train,y_train)"
      ],
      "execution_count": 9,
      "outputs": [
        {
          "output_type": "execute_result",
          "data": {
            "text/plain": [
              "GridSearchCV(cv=None, error_score=nan,\n",
              "             estimator=SVC(C=1.0, break_ties=False, cache_size=200,\n",
              "                           class_weight=None, coef0=0.0,\n",
              "                           decision_function_shape='ovr', degree=3,\n",
              "                           gamma='scale', kernel='rbf', max_iter=-1,\n",
              "                           probability=True, random_state=None, shrinking=True,\n",
              "                           tol=0.001, verbose=False),\n",
              "             iid='deprecated', n_jobs=None,\n",
              "             param_grid=[{'C': [1, 10, 100, 1000], 'kernel': ['linear']},\n",
              "                         {'C': [1, 10, 100, 1000], 'gamma': [0.001, 0.0001],\n",
              "                          'kernel': ['rbf']}],\n",
              "             pre_dispatch='2*n_jobs', refit=True, return_train_score=False,\n",
              "             scoring=None, verbose=0)"
            ]
          },
          "metadata": {
            "tags": []
          },
          "execution_count": 9
        },
        {
          "output_type": "stream",
          "text": [
            "time: 5min 50s (started: 2021-06-24 15:32:23 +00:00)\n"
          ],
          "name": "stdout"
        }
      ]
    },
    {
      "cell_type": "code",
      "metadata": {
        "colab": {
          "base_uri": "https://localhost:8080/"
        },
        "id": "AvVc98aOppRi",
        "outputId": "f7b5e957-b795-4bb4-c27e-57aa1779d503"
      },
      "source": [
        "y_pred=clf.predict(x_test)\n",
        "y_pred"
      ],
      "execution_count": 10,
      "outputs": [
        {
          "output_type": "execute_result",
          "data": {
            "text/plain": [
              "array([1, 0, 0, 1, 2, 2, 1, 1, 1, 1, 1, 1, 1, 2, 1, 0, 2, 1, 1, 0, 0, 1,\n",
              "       0, 1, 2, 0, 1, 1, 1, 2, 1, 0, 0, 1, 1, 1, 1, 1, 1, 2, 1, 2, 2, 2,\n",
              "       0, 2, 2, 1, 1, 0, 1, 2, 0, 1])"
            ]
          },
          "metadata": {
            "tags": []
          },
          "execution_count": 10
        },
        {
          "output_type": "stream",
          "text": [
            "time: 558 ms (started: 2021-06-24 15:38:34 +00:00)\n"
          ],
          "name": "stdout"
        }
      ]
    },
    {
      "cell_type": "code",
      "metadata": {
        "colab": {
          "base_uri": "https://localhost:8080/"
        },
        "id": "4ecH0GP1rD4h",
        "outputId": "063fb92f-7fc4-4e12-d5c6-bcb23f933e6b"
      },
      "source": [
        "from sklearn.metrics import accuracy_score,confusion_matrix"
      ],
      "execution_count": 11,
      "outputs": [
        {
          "output_type": "stream",
          "text": [
            "time: 1.07 ms (started: 2021-06-24 15:38:53 +00:00)\n"
          ],
          "name": "stdout"
        }
      ]
    },
    {
      "cell_type": "code",
      "metadata": {
        "colab": {
          "base_uri": "https://localhost:8080/"
        },
        "id": "VfhHFf7vrIe8",
        "outputId": "385aa6e1-a884-4d2e-b0f6-98daf2d0deff"
      },
      "source": [
        "accuracy_score(y_pred,y_test)"
      ],
      "execution_count": 12,
      "outputs": [
        {
          "output_type": "execute_result",
          "data": {
            "text/plain": [
              "0.6481481481481481"
            ]
          },
          "metadata": {
            "tags": []
          },
          "execution_count": 12
        },
        {
          "output_type": "stream",
          "text": [
            "time: 5.8 ms (started: 2021-06-24 15:39:02 +00:00)\n"
          ],
          "name": "stdout"
        }
      ]
    },
    {
      "cell_type": "code",
      "metadata": {
        "colab": {
          "base_uri": "https://localhost:8080/"
        },
        "id": "S5d_17VGrK1g",
        "outputId": "afd4ceab-a906-4df3-8c32-14630c93682a"
      },
      "source": [
        "import pickle\n",
        "pickle.dump(clf,open('img_model.p','wb'))"
      ],
      "execution_count": 13,
      "outputs": [
        {
          "output_type": "stream",
          "text": [
            "time: 78.8 ms (started: 2021-06-24 15:39:28 +00:00)\n"
          ],
          "name": "stdout"
        }
      ]
    },
    {
      "cell_type": "code",
      "metadata": {
        "colab": {
          "base_uri": "https://localhost:8080/"
        },
        "id": "K94I-bk9rRHU",
        "outputId": "25c4cbc4-434b-4eef-c7af-59c4efb95e76"
      },
      "source": [
        "model=pickle.load(open('img_model.p','rb'))"
      ],
      "execution_count": 14,
      "outputs": [
        {
          "output_type": "stream",
          "text": [
            "time: 35.1 ms (started: 2021-06-24 15:39:37 +00:00)\n"
          ],
          "name": "stdout"
        }
      ]
    },
    {
      "cell_type": "code",
      "metadata": {
        "colab": {
          "base_uri": "https://localhost:8080/",
          "height": 337
        },
        "id": "7Cx1Xl8SrTOs",
        "outputId": "166b1e81-c721-4a9f-8e3c-9fd3676fa82a"
      },
      "source": [
        "flat_data=[]\n",
        "url=input('enter your url')\n",
        "img = imread(url)\n",
        "img_resized=resize(img,(150,150,3))\n",
        "flat_data.append(img_resized.flatten())\n",
        "flat_data=np.array(flat_data)\n",
        "print(img.shape)\n",
        "plt.imshow(img_resized)\n",
        "y_out=model.predict(flat_data)\n",
        "y_out=CATEGORIES[y_out[0]]\n",
        "print(f'PREDICTED OUTPUT:{y_out}')"
      ],
      "execution_count": 15,
      "outputs": [
        {
          "output_type": "stream",
          "text": [
            "enter your urlhttps://cars.tatamotors.com/images/tiago-mobile-banner-homepg.jpg\n",
            "(1085, 1080, 3)\n",
            "PREDICTED OUTPUT:cars\n"
          ],
          "name": "stdout"
        },
        {
          "output_type": "display_data",
          "data": {
            "image/png": "[encoded data removed]",
            "text/plain": [
              "<Figure size 432x288 with 1 Axes>"
            ]
          },
          "metadata": {
            "tags": [],
            "needs_background": "light"
          }
        },
        {
          "output_type": "stream",
          "text": [
            "time: 9.61 s (started: 2021-06-24 15:39:46 +00:00)\n"
          ],
          "name": "stdout"
        }
      ]
    }
  ]
}